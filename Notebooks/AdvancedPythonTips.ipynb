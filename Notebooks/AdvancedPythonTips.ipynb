{
 "cells": [
  {
   "cell_type": "markdown",
   "metadata": {
    "toc": true
   },
   "source": [
    "<h1>Table of Contents<span class=\"tocSkip\"></span></h1>\n",
    "<div class=\"toc\"><ul class=\"toc-item\"><li><span><a href=\"#Advanced-Python-Programming-Tips\" data-toc-modified-id=\"Advanced-Python-Programming-Tips-1\"><span class=\"toc-item-num\">1&nbsp;&nbsp;</span>Advanced Python Programming Tips</a></span><ul class=\"toc-item\"><li><span><a href=\"#Python-iteration\" data-toc-modified-id=\"Python-iteration-1.1\"><span class=\"toc-item-num\">1.1&nbsp;&nbsp;</span>Python iteration</a></span><ul class=\"toc-item\"><li><span><a href=\"#Iteration-using-enumerate\" data-toc-modified-id=\"Iteration-using-enumerate-1.1.1\"><span class=\"toc-item-num\">1.1.1&nbsp;&nbsp;</span>Iteration using enumerate</a></span></li><li><span><a href=\"#Iteration-with-zip\" data-toc-modified-id=\"Iteration-with-zip-1.1.2\"><span class=\"toc-item-num\">1.1.2&nbsp;&nbsp;</span>Iteration with zip</a></span></li><li><span><a href=\"#Iterating-dictionary\" data-toc-modified-id=\"Iterating-dictionary-1.1.3\"><span class=\"toc-item-num\">1.1.3&nbsp;&nbsp;</span>Iterating dictionary</a></span></li></ul></li><li><span><a href=\"#Python-set-data-structure\" data-toc-modified-id=\"Python-set-data-structure-1.2\"><span class=\"toc-item-num\">1.2&nbsp;&nbsp;</span>Python set data structure</a></span><ul class=\"toc-item\"><li><span><a href=\"#Generate-lists-with-unique-elements\" data-toc-modified-id=\"Generate-lists-with-unique-elements-1.2.1\"><span class=\"toc-item-num\">1.2.1&nbsp;&nbsp;</span>Generate lists with unique elements</a></span></li><li><span><a href=\"#Find-out-duplicate-elements-in-a-list\" data-toc-modified-id=\"Find-out-duplicate-elements-in-a-list-1.2.2\"><span class=\"toc-item-num\">1.2.2&nbsp;&nbsp;</span>Find out duplicate elements in a list</a></span></li><li><span><a href=\"#Set-intersection-and-difference\" data-toc-modified-id=\"Set-intersection-and-difference-1.2.3\"><span class=\"toc-item-num\">1.2.3&nbsp;&nbsp;</span>Set intersection and difference</a></span></li></ul></li></ul></li></ul></div>"
   ]
  },
  {
   "cell_type": "markdown",
   "metadata": {},
   "source": [
    "# Advanced Python Programming Tips"
   ]
  },
  {
   "cell_type": "markdown",
   "metadata": {},
   "source": [
    "This Chaper we summarize commonly used Python programming tips. "
   ]
  },
  {
   "cell_type": "markdown",
   "metadata": {},
   "source": [
    "## Python iteration\n",
    "### Iteration using enumerate\n",
    "Consider a list `letters = ['A', 'B', 'C', 'D']`. Sometimes we want to iterate over the list and also know the index of current item. One way to do this is via the following code:\n",
    "```python\n",
    "for i in range(len(letters)):\n",
    "letter = letters[i]\n",
    "print('%d: %s' % (i + 1, letter))\n",
    "``` \n",
    "A more elegant way is using `enumerate` function:\n",
    "```python\n",
    "for i in enumerate(letters):\n",
    "    print('%d: %s' % (i + 1, letter))\n",
    "```\n",
    "which will print\n",
    "```python\n",
    ">>> \n",
    "1: A \n",
    "2: B \n",
    "3: C \n",
    "4: D\n",
    "```\n",
    " \n",
    "### Iteration with zip\n",
    " \n",
    "```python\n",
    "names = ['Mike', 'Jay', 'Toml]\n",
    "flavors = ['vanilla', 'chocolate', 'pecan'].\n",
    "```\n",
    "To iterate over the two lists at the same time, we use the following:\n",
    "```python\n",
    "for i in range(len(names)):\n",
    "    name = names[i]\n",
    "    flavor = flavors[i]\n",
    "    print('%s: %s' % (name, flavor))\n",
    "```\n",
    "Python provides the function `zip` that can combine two or more iterables to form a generator that yields tuples consisting of the iterable elements.\n",
    " \n",
    "```python\n",
    "for name, flavor in zip(names, flavors): \n",
    "    print('%s: %s' % (name, flavor))\n",
    "```\n",
    "\n",
    "which will print\n",
    "```python\n",
    ">>>\n",
    "Mike: vanilla Jay: chocollate Tom: pecan\n",
    "```\n",
    "\n",
    "### Iterating dictionary\n",
    "Consider the following dictionary\n",
    "```python\n",
    "stocks = {\n",
    "'IBM': 146.48, 'MSFT': 44.11, 'CSCO':25.54\n",
    "}\n",
    "```\n",
    "To iterate over only keys\n",
    "```python\n",
    "for c in stocks:\n",
    "print(c)\n",
    "```\n",
    "To iterate over both keys and values, \n",
    "`for k, v in stocks.items(): print('%s: %f' % (k, v))`\n",
    " gives output\n",
    "```python\n",
    "IBM: 146.480000 MSFT: 44.110000 CSCO: 25.540000\n",
    "```"
   ]
  },
  {
   "cell_type": "markdown",
   "metadata": {},
   "source": [
    "## Python set data structure\n",
    "### Generate lists with unique elements\n",
    "The python `set` data structure implements the mathematical construct of sets that disallow duplicate elements. This element uniqueness property can be conveniently used to filter out duplicate elements.\n",
    "For example,\n",
    "```python\n",
    "list1 = [1, 2, 1, 2, 3, 4, 4, 5]\n",
    "uniqueSet = set(list1)\n",
    "uniqueList = list(set(list1))\n",
    "print(uniqueSet)\n",
    "print(uniqueList)\n",
    "# Output:\n",
    "[1,\t2, 3, 4, 5]\n",
    "{1,\t2, 3, 4, 5}\n",
    "```\n",
    "### Find out duplicate elements in a list\n",
    "We can also find out duplicates in a list. For example\n",
    "```python\n",
    "list1= [1, 2, 1, 2, 3, 4, 4, 5]\n",
    "A = set([x for x in list1 if listLcount(x)>1]) print(A)\n",
    "#Output:\n",
    "{1, 2, 4}\n",
    "```\n",
    "\n",
    "### Set intersection and difference\n",
    "Given two sets `A` and `B`, the signatures to perform set intersections and differences are `A.intersection(B)` and `A.difference(B)`.\n",
    " \n",
    "```python\n",
    "A = {1, 2, 3, 4, 5}\n",
    "B = {1, 2, 3}\n",
    "print(A.intersection(B)) print(A.difference(B))\n",
    "# Output\n",
    "{1, 2, 3}\n",
    "{4, 5}\n",
    "``` \n"
   ]
  }
 ],
 "metadata": {
  "anaconda-cloud": {},
  "kernelspec": {
   "display_name": "Python 3",
   "language": "python",
   "name": "python3"
  },
  "language_info": {
   "codemirror_mode": {
    "name": "ipython",
    "version": 3
   },
   "file_extension": ".py",
   "mimetype": "text/x-python",
   "name": "python",
   "nbconvert_exporter": "python",
   "pygments_lexer": "ipython3",
   "version": "3.6.3"
  },
  "toc": {
   "base_numbering": 1,
   "nav_menu": {},
   "number_sections": true,
   "sideBar": true,
   "skip_h1_title": false,
   "title_cell": "Table of Contents",
   "title_sidebar": "Contents",
   "toc_cell": true,
   "toc_position": {
    "height": "calc(100% - 180px)",
    "left": "10px",
    "top": "150px",
    "width": "272px"
   },
   "toc_section_display": true,
   "toc_window_display": true
  }
 },
 "nbformat": 4,
 "nbformat_minor": 1
}
